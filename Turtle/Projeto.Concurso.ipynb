{
 "cells": [
  {
   "cell_type": "code",
   "execution_count": null,
   "metadata": {},
   "outputs": [
    {
     "name": "stderr",
     "output_type": "stream",
     "text": [
      "\n",
      "KeyboardInterrupt\n",
      "\n"
     ]
    }
   ],
   "source": [
    "import turtle # importa o Turtle\n",
    "import time # importa o 'tempo'\n",
    "\n",
    "wn = turtle.Screen()  # gera a tela no qual as animações são feitas\n",
    "\n",
    "t = turtle.Turtle()  # cria uma instância do turtle\n",
    "t.ht()\n",
    "\n",
    "num_pen = []\n",
    "\n",
    "pen_ind = 0.1\n",
    "\n",
    "inclinacao = 1 # direção\n",
    "\n",
    "while True:\n",
    "    turtle.tracer(1000, 0)\n",
    "    for i in range(20):  # loop gera números de 0 - 399\n",
    "\n",
    "       # if i % 20 == 0:\n",
    "       #     t.pensize(1 + pen_ind)\n",
    "       #     pen_ind += 0.1\n",
    "\n",
    "        t.pencolor(\"black\")  # cor da caneta    pen color\n",
    "        \n",
    "        t.goto(27 + inclinacao, 10 + inclinacao) # pontos do desenho + a inclinação(direção)   drawing points + inclination\n",
    "        t.goto(25 + inclinacao, 32 + inclinacao)\n",
    "        t.goto(38 + inclinacao, 22 + inclinacao)\n",
    "        t.goto(27 + inclinacao, 10 + inclinacao)\n",
    "        t.goto(20 + inclinacao, 38 + inclinacao)\n",
    "        t.goto(1 + inclinacao, 55 + inclinacao)\n",
    "        t.goto(88 + inclinacao, 90 + inclinacao)\n",
    "        t.goto(55 + inclinacao, 8 + inclinacao)\n",
    "        t.goto(25 + inclinacao, 32 + inclinacao)\n",
    "        t.goto(88 + inclinacao, 90 + inclinacao)\n",
    "        t.goto(20 + inclinacao, 38 + inclinacao)\n",
    "\n",
    "    inclinacao += 1 # direção\n",
    " \n",
    "    # t.clear()\n",
    "    # t.reset()\n",
    "\n",
    "    wn.bgcolor(\"#66B7F5\") # cor de fundo    background color\n",
    "    \n",
    "    pen_ind = 0.1\n",
    "\n",
    "    turtle.hideturtle()\n",
    "    turtle.update()  # 'Atualiza' o desenho  drawing update\n",
    "    time.sleep(0.15) # tmpo para mover o desenho\n",
    "    wn.clear() # apagar o desenho anterior                   my airplane"
   ]
  }
 ],
 "metadata": {
  "colab": {
   "name": "CMT - Aula 5 (Fazendo imagens com Turtle).ipynb",
   "provenance": []
  },
  "kernelspec": {
   "display_name": "Python 3",
   "language": "python",
   "name": "python3"
  },
  "language_info": {
   "codemirror_mode": {
    "name": "ipython",
    "version": 3
   },
   "file_extension": ".py",
   "mimetype": "text/x-python",
   "name": "python",
   "nbconvert_exporter": "python",
   "pygments_lexer": "ipython3",
   "version": "3.12.6"
  }
 },
 "nbformat": 4,
 "nbformat_minor": 1
}
